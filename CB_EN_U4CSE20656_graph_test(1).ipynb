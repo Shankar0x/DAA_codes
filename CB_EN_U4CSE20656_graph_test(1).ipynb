{
  "nbformat": 4,
  "nbformat_minor": 0,
  "metadata": {
    "colab": {
      "provenance": [],
      "collapsed_sections": []
    },
    "kernelspec": {
      "name": "python3",
      "display_name": "Python 3"
    },
    "language_info": {
      "name": "python"
    }
  },
  "cells": [
    {
      "cell_type": "markdown",
      "source": [
        "#DAA graph lab evaluation\n",
        "###Name: Shankara Narayanan V\n",
        "###Roll number: CB.EN.U4CSE20656\n"
      ],
      "metadata": {
        "id": "vO_kNiK5Hkf-"
      }
    },
    {
      "cell_type": "markdown",
      "source": [
        "#*Question 1*\n",
        "##**Design**\n",
        "\n",
        "####As far as graph design is concerned, the orignial 2D array is considered. While the 8 path connectivity is mapped as shown below.\n",
        "![image.png](data:image/png;base64,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)\n",
        "\n",
        "####All the elements in the dictionary are used and if their first word is present in the grid, we proceed with the DFS on each of the 8 neighbours of the selected letter of the word. \n",
        "####This method proves to be faster than running DFS on each of the grid elements (which will be O(N^4)) as DFS is run on the dictionary of words and we run a primary check of first letter being in the grid. \n",
        "###**Time complexity**: *O(sum of letters of all words)*\n",
        "#### This is the case as we use a 2D array and **hash** into the 8 adjacent neighbours in O(1) time. DFS runs of each of these adjacent neighbours but if the letters of the word are not overlapping with what the DFS is finding, 'False' is returned and the DFS of the next neighbour starts hence sum of all the letters will be the time complexity."
      ],
      "metadata": {
        "id": "2VpqfqJiIkbD"
      }
    },
    {
      "cell_type": "markdown",
      "source": [
        "##**Code**"
      ],
      "metadata": {
        "id": "_CIQ7OoyQkYL"
      }
    },
    {
      "cell_type": "code",
      "source": [
        "class worder:\n",
        "  def __init__(self,word_grid,dict1):\n",
        "    self.word_grid=word_grid\n",
        "    self.dict1=dict1\n",
        "    self.found_set=[]\n",
        "    self.found_path=[]\n",
        "  def dfs_grid(self,stri,j,k,m,n,i,path):\n",
        "    if j>=m or k>=n or stri[i] != self.word_grid[j][k] or j<0 or k<0:\n",
        "      return False\n",
        "    path.append((j,k))\n",
        "    if i == len(stri)-1:\n",
        "      return True\n",
        "    foc=self.word_grid[j][k]\n",
        "    self.word_grid[j][k]='visited'\n",
        "\n",
        "    col1=bool(self.dfs_grid(stri,j,k+1,m,n,i+1,path)) or bool(self.dfs_grid(stri,j,k-1,m,n,i+1,path)) or bool(self.dfs_grid(stri,j+1,k,m,n,i+1,path))\n",
        "    col2=bool(self.dfs_grid(stri,j-1,k,m,n,i+1,path)) or bool(self.dfs_grid(stri,j+1,k+1,m,n,i+1,path))\n",
        "    col3=bool(self.dfs_grid(stri,j-1,k+1,m,n,i+1,path)) or bool(self.dfs_grid(stri,j+1,k-1,m,n,i+1,path)) or bool(self.dfs_grid(stri,j-1,k-1,m,n,i+1,path))\n",
        "\n",
        "    self.word_grid[j][k]=foc\n",
        "\n",
        "    return bool(col1 or col2 or col3)\n",
        "      \n",
        "  def gridfinder(self):\n",
        "    m=len(self.word_grid)\n",
        "    n=len(self.word_grid[0])\n",
        "    path=[]\n",
        "    for i in range(len(self.dict1)):\n",
        "      stri=self.dict1[i]\n",
        "      \n",
        "      for j in range(m):\n",
        "        for k in range(n):\n",
        "          if(self.dfs_grid(stri,j,k,m,n,0,path)):\n",
        "            self.found_set.append(stri)\n",
        "            path=path[len(path)-len(stri):]\n",
        "            self.found_path.append(path)\n",
        "            calc_score=2*len(stri)\n",
        "            print('------------------------\\nWord: '+stri+'\\nScore: '+str(calc_score)+'\\nPath: '+str(path))\n",
        "            path=[]\n",
        "  def wordfinder(self,s):\n",
        "    lis=[]\n",
        "    for i in self.found_set:\n",
        "      if i.startswith(s):\n",
        "        lis.append(i)\n",
        "    print(\"All the words that were found which starts with \\'\"+s+\"\\' are: \",lis)\n"
      ],
      "metadata": {
        "id": "hVjo_k5JQSs-"
      },
      "execution_count": null,
      "outputs": []
    },
    {
      "cell_type": "markdown",
      "source": [
        "##**Output**"
      ],
      "metadata": {
        "id": "OndimHmFQrq_"
      }
    },
    {
      "cell_type": "code",
      "execution_count": null,
      "metadata": {
        "colab": {
          "base_uri": "https://localhost:8080/"
        },
        "id": "EG9E-GPhOFw-",
        "outputId": "aa8ba813-1a5f-4f34-fcf2-986845bb8e31"
      },
      "outputs": [
        {
          "output_type": "stream",
          "name": "stdout",
          "text": [
            "------------------------\n",
            "Word: an\n",
            "Score: 4\n",
            "Path: [(2, 3), (2, 2)]\n",
            "------------------------\n",
            "Word: and\n",
            "Score: 6\n",
            "Path: [(2, 3), (2, 2), (1, 2)]\n",
            "------------------------\n",
            "Word: bad\n",
            "Score: 6\n",
            "Path: [(3, 2), (2, 3), (1, 2)]\n",
            "------------------------\n",
            "Word: badge\n",
            "Score: 10\n",
            "Path: [(3, 2), (2, 3), (1, 2), (1, 1), (0, 0)]\n",
            "------------------------\n",
            "Word: ban\n",
            "Score: 6\n",
            "Path: [(3, 2), (2, 3), (2, 2)]\n",
            "------------------------\n",
            "Word: band\n",
            "Score: 8\n",
            "Path: [(3, 2), (2, 3), (2, 2), (1, 2)]\n",
            "------------------------\n",
            "Word: bane\n",
            "Score: 8\n",
            "Path: [(2, 3), (2, 2), (3, 3), (3, 1)]\n",
            "------------------------\n",
            "Word: bang\n",
            "Score: 8\n",
            "Path: [(3, 2), (2, 3), (2, 2), (1, 1)]\n",
            "------------------------\n",
            "Word: bangs\n",
            "Score: 10\n",
            "Path: [(3, 2), (2, 3), (2, 2), (1, 1), (2, 1)]\n",
            "------------------------\n",
            "Word: bans\n",
            "Score: 8\n",
            "Path: [(3, 2), (2, 3), (2, 2), (2, 1)]\n",
            "------------------------\n",
            "Word: be\n",
            "Score: 4\n",
            "Path: [(3, 2), (3, 3)]\n",
            "------------------------\n",
            "Word: bean\n",
            "Score: 8\n",
            "Path: [(3, 2), (3, 3), (2, 3), (2, 2)]\n",
            "------------------------\n",
            "Word: beans\n",
            "Score: 10\n",
            "Path: [(3, 2), (3, 3), (2, 3), (2, 2), (2, 1)]\n",
            "------------------------\n",
            "Word: bear\n",
            "Score: 8\n",
            "Path: [(3, 2), (3, 3), (2, 3), (1, 3)]\n",
            "------------------------\n",
            "Word: beard\n",
            "Score: 10\n",
            "Path: [(3, 2), (3, 3), (2, 3), (1, 3), (1, 2)]\n",
            "------------------------\n",
            "Word: beards\n",
            "Score: 12\n",
            "Path: [(3, 2), (3, 3), (2, 3), (1, 3), (1, 2), (2, 1)]\n",
            "------------------------\n",
            "Word: bee\n",
            "Score: 6\n",
            "Path: [(3, 3), (3, 1), (3, 0)]\n",
            "------------------------\n",
            "Word: beep\n",
            "Score: 8\n",
            "Path: [(3, 3), (3, 1), (3, 0), (2, 0)]\n",
            "------------------------\n",
            "Word: beeps\n",
            "Score: 10\n",
            "Path: [(3, 3), (3, 1), (3, 0), (2, 0), (2, 1)]\n",
            "------------------------\n",
            "Word: bees\n",
            "Score: 8\n",
            "Path: [(3, 3), (3, 1), (3, 0), (2, 1)]\n",
            "------------------------\n",
            "Word: dab\n",
            "Score: 6\n",
            "Path: [(2, 3), (3, 2), (0, 3)]\n",
            "------------------------\n",
            "Word: dabs\n",
            "Score: 8\n",
            "Path: [(2, 3), (3, 2), (2, 1), (0, 3)]\n",
            "------------------------\n",
            "Word: dane\n",
            "Score: 8\n",
            "Path: [(2, 2), (3, 3), (3, 1), (0, 3)]\n",
            "------------------------\n",
            "Word: danes\n",
            "Score: 10\n",
            "Path: [(2, 2), (3, 3), (3, 1), (2, 1), (0, 3)]\n",
            "------------------------\n",
            "Word: darn\n",
            "Score: 8\n",
            "Path: [(0, 3), (0, 2), (1, 3), (2, 2)]\n",
            "------------------------\n",
            "Word: drab\n",
            "Score: 8\n",
            "Path: [(3, 2), (0, 3), (0, 2), (0, 3)]\n",
            "------------------------\n",
            "Word: ear\n",
            "Score: 6\n",
            "Path: [(3, 3), (2, 3), (1, 3)]\n",
            "------------------------\n",
            "Word: earn\n",
            "Score: 8\n",
            "Path: [(3, 3), (2, 3), (1, 3), (2, 2)]\n",
            "------------------------\n",
            "Word: earns\n",
            "Score: 10\n",
            "Path: [(3, 3), (2, 3), (1, 3), (2, 2), (2, 1)]\n",
            "------------------------\n",
            "Word: end\n",
            "Score: 6\n",
            "Path: [(3, 1), (2, 2), (1, 2)]\n",
            "------------------------\n",
            "Word: end\n",
            "Score: 6\n",
            "Path: [(3, 3), (2, 2), (1, 2)]\n",
            "------------------------\n",
            "Word: ends\n",
            "Score: 8\n",
            "Path: [(3, 1), (2, 2), (1, 2), (2, 1)]\n",
            "------------------------\n",
            "Word: ends\n",
            "Score: 8\n",
            "Path: [(3, 3), (2, 2), (1, 2), (2, 1)]\n",
            "------------------------\n",
            "Word: grad\n",
            "Score: 8\n",
            "Path: [(1, 1), (0, 2), (0, 3), (1, 2)]\n",
            "------------------------\n",
            "Word: grads\n",
            "Score: 10\n",
            "Path: [(1, 1), (0, 2), (0, 3), (1, 2), (2, 1)]\n",
            "------------------------\n",
            "Word: he\n",
            "Score: 4\n",
            "Path: [(1, 0), (0, 0)]\n",
            "------------------------\n",
            "Word: pen\n",
            "Score: 6\n",
            "Path: [(3, 0), (3, 1), (2, 2)]\n",
            "------------------------\n",
            "Word: pend\n",
            "Score: 8\n",
            "Path: [(3, 0), (3, 1), (2, 2), (1, 2)]\n",
            "------------------------\n",
            "Word: pens\n",
            "Score: 8\n",
            "Path: [(3, 0), (3, 1), (2, 2), (2, 1)]\n",
            "------------------------\n",
            "Word: ran\n",
            "Score: 6\n",
            "Path: [(2, 3), (2, 2), (0, 3)]\n",
            "------------------------\n",
            "Word: rang\n",
            "Score: 8\n",
            "Path: [(2, 3), (2, 2), (1, 1), (0, 3)]\n",
            "------------------------\n",
            "Word: range\n",
            "Score: 10\n",
            "Path: [(2, 3), (2, 2), (1, 1), (0, 0), (0, 3)]\n",
            "------------------------\n",
            "Word: see\n",
            "Score: 6\n",
            "Path: [(3, 0), (3, 0), (3, 1)]\n",
            "------------------------\n",
            "Word: seen\n",
            "Score: 8\n",
            "Path: [(3, 0), (3, 0), (3, 1), (2, 2)]\n",
            "------------------------\n",
            "Word: seep\n",
            "Score: 8\n",
            "Path: [(2, 0), (3, 0), (3, 1), (2, 0)]\n",
            "------------------------\n",
            "Word: she\n",
            "Score: 6\n",
            "Path: [(2, 1), (1, 0), (0, 0)]\n",
            "All the words that were found which starts with 'a' are:  ['an', 'and']\n",
            "All the words that were found which starts with 's' are:  ['see', 'seen', 'seep', 'she']\n"
          ]
        }
      ],
      "source": [
        "if __name__ == '__main__':\n",
        "  word_grid=[\n",
        "      ['e','f','r','a'],\n",
        "      ['h','g','d','r'],\n",
        "      ['p','s','n','a'],\n",
        "      ['e','e','b','e']\n",
        "  ]\n",
        "  dict1 =  ['an', 'and', 'bad', 'badge','ban', 'band', 'bane', 'bang',\n",
        "    'bangs', 'bans', 'be', 'bean', 'beans', 'bear', 'beard', 'beards',\n",
        "    'bee', 'been', 'beep', 'beeps', 'bees', 'dab', 'dabs', 'dane',\n",
        "    'danes', 'darn', 'drab', 'ear', 'earn', 'earns', 'end', 'ends',\n",
        "    'grad', 'grads', 'he', 'pen', 'pend', 'pens', 'ran', 'rang', 'range', 'see', 'seen', 'seep', 'she' ]\n",
        "\n",
        "  wordObj=worder(word_grid,dict1)\n",
        "  wordObj.gridfinder()\n",
        "  wordObj.wordfinder('a')\n",
        "  wordObj.wordfinder('s')"
      ]
    },
    {
      "cell_type": "markdown",
      "source": [
        "#*Question 2*\n",
        "##**Design**\n",
        "####<ins>**Justifying the graph representation**\n",
        "####A graph was constructed using **adjacency list** representation. This is the best possible representation type as the question covers various aspects of graph traversals. For example, it will take only **O(n)** time to iterate through all the nodes in this represenation. This aspect will prove to be helpful when the nodes must be assigned a type (integrated or non integrated). Similarly, when performing DFS, adjacency list will give the best possible time complexity for DFS which is **O(V+E)** where V is the number of vertices and E is the number of edges\n",
        "####<ins>**Justifying the node design**\n",
        "####Each node is hardcoded with relevant information like the color of the node and the type of the node (integrated or non integrated). This addition will be helpful while solving the 1<sup>st</sup> and the 2<sup>nd</sup> subparts of the question as a basic traversal or look up is enough to find the type of the nodes.\n",
        "####<ins>**Justifying the graph design**\n",
        "####The graph too has attributes hardcoded inside the class. Ghetto attribute is used to maintain the total count of Ghettos found in the graph and node_dict, a dictionary of nodes and their corresponding types (integrated or non integrated) is present to display the colored edges of the graph.\n",
        "\n",
        "###**Time complexity for adjacency list construction**: *O(V)*\n",
        "###**Time complexity for assigning type of nodes**: *O(V)*\n",
        "###**Time complexity for finding type of node**: *O(1)*\n",
        "###**Time complexity for finding type of graph**: *O(V)*\n",
        "###**Time complexity for finding Ghettos**: *O(V+E)*\n",
        "\n",
        "##**Sample graph used**\n",
        "![image.png](data:image/png;base64,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)\n",
        "\n",
        "####The circled region is the possible ghetto in this graph\n"
      ],
      "metadata": {
        "id": "isjpHBs5ms2M"
      }
    },
    {
      "cell_type": "markdown",
      "source": [
        "##**Code**"
      ],
      "metadata": {
        "id": "ha73CckVu2yQ"
      }
    },
    {
      "cell_type": "code",
      "source": [
        "class classified_node:\n",
        "  def __init__(self,data,color):\n",
        "    self.data=data\n",
        "    self.next=None\n",
        "    self.color=color\n",
        "    self.n_type=None\n",
        "\n",
        "class colored_graph:\n",
        "  def __init__(self,counts):\n",
        "    self.nodes_count=counts\n",
        "    self.graph=[None]*self.nodes_count\n",
        "    self.node_dict={}\n",
        "    self.ghettos=0\n",
        "  \n",
        "  def add_edge(self,p1,p1_type,p2,p2_type):\n",
        "    node=classified_node(p2,p2_type)\n",
        "    node.next=self.graph[p1]\n",
        "    self.graph[p1]=node\n",
        "\n",
        "    node=classified_node(p1,p1_type)\n",
        "    node.next=self.graph[p2]\n",
        "    self.graph[p2]=node\n",
        "  \n",
        "  def graph_display(self):\n",
        "    for i in range(self.nodes_count):\n",
        "      print(\"(\"+str(i)+\", \"+str(self.graph[i].color)+\"):\",end=\"\")\n",
        "      temp=self.graph[i]\n",
        "      curr_type=self.node_dict[i]\n",
        "      while temp:\n",
        "        if curr_type==temp.n_type:\n",
        "          # print((list(self.node_dict.keys())[list(self.node_dict.values()).index(curr_type)]),temp.data)\n",
        "          color='red'\n",
        "        else:\n",
        "          color='blue'\n",
        "        print(\" -{}-> ({}, {})\".format(color,temp.data,temp.color), end=\"\")\n",
        "        temp=temp.next\n",
        "      print('\\n')  \n",
        "    \n",
        "  def assign_integration(self):\n",
        "    for n in range(self.nodes_count):\n",
        "      tmp=self.graph[n]\n",
        "      my_color=tmp.color\n",
        "      bl_ct,w_ct=0,0\n",
        "      \n",
        "      while(tmp):\n",
        "        if tmp.color=='Black':\n",
        "          bl_ct+=1\n",
        "        else:\n",
        "          w_ct+=1\n",
        "        tmp=tmp.next\n",
        "      if my_color=='Black' and w_ct>=bl_ct:\n",
        "        self.graph[n].n_type='Integrated'\n",
        "        self.node_dict[n]=self.graph[n].n_type\n",
        "      else:\n",
        "        self.graph[n].n_type='Not Integrated'\n",
        "        self.node_dict[n]=self.graph[n].n_type\n",
        "  def integrated_or_not(self,n):\n",
        "    print(\"Node {} is {}\".format(n,self.graph[n].n_type))\n",
        "    \n",
        "  def graph_integrated(self):\n",
        "    for i in range(self.nodes_count):\n",
        "      if(self.graph[i].n_type=='Not Integrated'):\n",
        "        print(\"The graph is NOT Integrated!\")\n",
        "        return \n",
        "    print(\"The graph is Integrated\")\n",
        "  def ghetto_finder(self):\n",
        "    print(\"The total number of ghettos: {}\".format(self.ghettos))\n",
        "  def DFSUtil(self, v, visited,ctr,colors,types):\n",
        "    visited.add(v)\n",
        "    # print(v, end=' ')\n",
        "    temp=self.graph[v]\n",
        "    colors.append(temp.color)\n",
        "    types.append(temp.n_type)\n",
        "    if ctr==3:\n",
        "      res1 = all(ele == colors[0] for ele in colors)\n",
        "      res2 = all(ele == 'Not Integrated' for ele in types)\n",
        "      if res1 and res2:\n",
        "        self.ghettos+=1\n",
        "      ctr=0\n",
        "      colors,types=[],[]\n",
        "    lis=[]\n",
        "    while temp:\n",
        "      lis.append(temp.data)\n",
        "      temp=temp.next\n",
        "    for neighbour in lis:\n",
        "      if neighbour not in visited:\n",
        "        self.DFSUtil(neighbour, visited,ctr+1,colors,types)\n",
        "  def DFS(self, v):\n",
        "    visited = set()\n",
        "    ctr=0\n",
        "    colors,types=[],[]\n",
        "    self.DFSUtil(v, visited,ctr,colors,types)"
      ],
      "metadata": {
        "id": "NI9zoFUo8Rcd"
      },
      "execution_count": null,
      "outputs": []
    },
    {
      "cell_type": "markdown",
      "source": [
        "##**Outputs**"
      ],
      "metadata": {
        "id": "U5AjVJ3Au6hv"
      }
    },
    {
      "cell_type": "code",
      "source": [
        "if __name__ == \"__main__\":\n",
        "    # Constructing graph1\n",
        "    nodes_count_1=12\n",
        "    graph1 = colored_graph(nodes_count_1)\n",
        "    graph1.add_edge(0, 'Black', 1, 'White')\n",
        "    graph1.add_edge(0, 'Black', 3, 'White')\n",
        "    graph1.add_edge(1, 'White', 2, 'White')\n",
        "    graph1.add_edge(1, 'White', 3, 'White')\n",
        "    graph1.add_edge(2, 'White', 5, 'White')\n",
        "    graph1.add_edge(2, 'White', 4, 'Black')\n",
        "    graph1.add_edge(3, 'White', 4, 'Black')\n",
        "    graph1.add_edge(3, 'White', 6, 'Black')\n",
        "    graph1.add_edge(4, 'Black', 6, 'Black')\n",
        "    graph1.add_edge(4, 'Black', 5, 'White')\n",
        "    graph1.add_edge(5, 'White', 7, 'Black')\n",
        "    graph1.add_edge(5, 'White', 8, 'White')\n",
        "    graph1.add_edge(6, 'Black', 7, 'Black')\n",
        "    graph1.add_edge(6, 'Black', 9, 'White')\n",
        "    graph1.add_edge(7, 'Black', 8, 'White')\n",
        "    graph1.add_edge(7, 'Black', 9, 'White')\n",
        "    graph1.add_edge(8, 'White', 11, 'Black')\n",
        "    graph1.add_edge(8, 'White', 10, 'White')\n",
        "    graph1.add_edge(9, 'White', 10, 'White')\n",
        "    graph1.add_edge(10, 'White', 11, 'Black')"
      ],
      "metadata": {
        "id": "YYT_oWqP-7OZ"
      },
      "execution_count": null,
      "outputs": []
    },
    {
      "cell_type": "code",
      "source": [
        "graph1.assign_integration()"
      ],
      "metadata": {
        "id": "Gq0uZp-cOG1U"
      },
      "execution_count": null,
      "outputs": []
    },
    {
      "cell_type": "code",
      "source": [
        "graph1.integrated_or_not(2)\n",
        "graph1.integrated_or_not(11)"
      ],
      "metadata": {
        "colab": {
          "base_uri": "https://localhost:8080/"
        },
        "id": "9xNiruyNJYqZ",
        "outputId": "b63a74d0-0077-4b91-8f13-c6fd462a675b"
      },
      "execution_count": null,
      "outputs": [
        {
          "output_type": "stream",
          "name": "stdout",
          "text": [
            "Node 2 is Integrated\n",
            "Node 11 is Not Integrated\n"
          ]
        }
      ]
    },
    {
      "cell_type": "code",
      "source": [
        "graph1.graph_integrated()"
      ],
      "metadata": {
        "colab": {
          "base_uri": "https://localhost:8080/"
        },
        "id": "c3CNw9VuMDrY",
        "outputId": "0710cab1-c623-4620-8d8c-21b2788c71ab"
      },
      "execution_count": null,
      "outputs": [
        {
          "output_type": "stream",
          "name": "stdout",
          "text": [
            "The graph is NOT Integrated!\n"
          ]
        }
      ]
    },
    {
      "cell_type": "code",
      "source": [
        "graph1.graph_display()"
      ],
      "metadata": {
        "colab": {
          "base_uri": "https://localhost:8080/"
        },
        "id": "6sdADb17N5kA",
        "outputId": "f54881c2-3b06-43b8-84fd-a36fcda6a503"
      },
      "execution_count": null,
      "outputs": [
        {
          "output_type": "stream",
          "name": "stdout",
          "text": [
            "(0, White): -red-> (3, White) -blue-> (1, White)\n",
            "\n",
            "(1, White): -red-> (3, White) -blue-> (2, White) -blue-> (0, Black)\n",
            "\n",
            "(2, Black): -red-> (4, Black) -blue-> (5, White) -blue-> (1, White)\n",
            "\n",
            "(3, Black): -red-> (6, Black) -blue-> (4, Black) -blue-> (1, White) -blue-> (0, Black)\n",
            "\n",
            "(4, White): -red-> (5, White) -blue-> (6, Black) -blue-> (3, White) -blue-> (2, White)\n",
            "\n",
            "(5, White): -red-> (8, White) -blue-> (7, Black) -blue-> (4, Black) -blue-> (2, White)\n",
            "\n",
            "(6, White): -red-> (9, White) -blue-> (7, Black) -blue-> (4, Black) -blue-> (3, White)\n",
            "\n",
            "(7, White): -red-> (9, White) -blue-> (8, White) -blue-> (6, Black) -blue-> (5, White)\n",
            "\n",
            "(8, White): -red-> (10, White) -blue-> (11, Black) -blue-> (7, Black) -blue-> (5, White)\n",
            "\n",
            "(9, White): -red-> (10, White) -blue-> (7, Black) -blue-> (6, Black)\n",
            "\n",
            "(10, Black): -red-> (11, Black) -blue-> (9, White) -blue-> (8, White)\n",
            "\n",
            "(11, White): -red-> (10, White) -blue-> (8, White)\n",
            "\n"
          ]
        }
      ]
    },
    {
      "cell_type": "code",
      "source": [
        "graph1.DFS(0)"
      ],
      "metadata": {
        "id": "8hHao5uCayLa"
      },
      "execution_count": null,
      "outputs": []
    },
    {
      "cell_type": "code",
      "source": [
        "graph1.ghetto_finder()"
      ],
      "metadata": {
        "colab": {
          "base_uri": "https://localhost:8080/"
        },
        "id": "Mtc8yoecioc4",
        "outputId": "13da1ec0-3c53-488d-d7e3-234241e30092"
      },
      "execution_count": null,
      "outputs": [
        {
          "output_type": "stream",
          "name": "stdout",
          "text": [
            "The total number of ghettos: 1\n"
          ]
        }
      ]
    },
    {
      "cell_type": "markdown",
      "source": [
        "#*Question 3*\n",
        "##**Design**\n",
        "####<ins>**Justifying the graph representation**\n",
        "####The order of the DNA fragments are of utmost importance hence a directed graph using adjacency list is used. As DFS will be used, adjacency list gives a decent time complexity of O(V+E).\n",
        "####<ins>**Briefing about the approach**\n",
        "####The total number of fragments are given and their relative positioning is given in words. Using that, a directed graph needs to be constructed. Starting from the 0th node, if we are able to DFS our way through all the elements then the fragments are reconstructable and their ordering is the same as the DFS's ordering. Else, the given fragments are not re-constructable.\n",
        "\n",
        "###**Time complexity for adjacency list construction**: *O(V)*\n",
        "###**Time complexity for running DFS**: *O(V+E)*\n",
        "\n",
        "##**Sample graph used**\n",
        "![image.png](data:image/png;base64,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)\n",
        "####DFS on the negative case would only cover 0<sup>th</sup> and 1<sup>st</sup> nodes hence DNA cannot be reconstruced while for the second case the DFS will reach 0<sup>th</sup>, 1<sup>st</sup> and 2<sup>nd</sup> nodes hence DNA is reconstructable.\n",
        "####Each node is **hardcoded** with the fragment sequence."
      ],
      "metadata": {
        "id": "qfscDl1CDKDo"
      }
    },
    {
      "cell_type": "code",
      "source": [
        "def DFSUtil(v, visited,graph,dfs_list):\n",
        "  visited.add(v)\n",
        "  dfs_list.append(v)\n",
        "  for neighbour in graph[v]:\n",
        "    if neighbour not in visited:\n",
        "      DFSUtil(neighbour, visited,graph,dfs_list)\n",
        "\n",
        "def DFS(v, adj):\n",
        "  visited = set()\n",
        "  dfs_list=[]\n",
        "  DFSUtil(v, visited,adj,dfs_list)\n",
        "  return dfs_list"
      ],
      "metadata": {
        "id": "u2I87kmX9szK"
      },
      "execution_count": null,
      "outputs": []
    },
    {
      "cell_type": "markdown",
      "source": [
        "##**Code**"
      ],
      "metadata": {
        "id": "kwTt_ZTXFz-E"
      }
    },
    {
      "cell_type": "code",
      "source": [
        "def addEdge(adj, u, v):\n",
        "    adj[u].append(v)\n",
        "\n",
        "def adjacencylist(adj, V):\n",
        "    print(\"------------Directed graph of the fragments------------\")\n",
        "    for i in range (0, V):\n",
        "        print(i, \"->\", end=\"\")\n",
        "         \n",
        "        for x in  adj[i]:\n",
        "            print(x , \" \", end=\"\")\n",
        "\n",
        "        print()\n",
        "\n",
        "def initGraph(V, edges, noOfEdges,fragments):\n",
        "\n",
        "     \n",
        "    adj = [0]* 3\n",
        "     \n",
        "    for i in range(0, len(adj)):\n",
        "        adj[i] = []\n",
        "   \n",
        "\n",
        "    for i in range(0, noOfEdges) :\n",
        "        addEdge(adj, edges[i][0], edges[i][1])\n",
        "     \n",
        "\n",
        "    adjacencylist(adj, V)\n",
        "    dfs_list=DFS(0,adj)\n",
        "    print(\"The DFS of the fragments results in: \",dfs_list)\n",
        "    \n",
        "    if len(dfs_list)!=V:\n",
        "      print(\"The DNA sequence cannot be reconstructed!\")\n",
        "    else:\n",
        "      print(\"The DNA sequence can be reconstructed!\")\n",
        "      for i in dfs_list:\n",
        "        print(fragments[i],end=\" \")\n"
      ],
      "metadata": {
        "id": "_nN97VFn0xWB"
      },
      "execution_count": null,
      "outputs": []
    },
    {
      "cell_type": "markdown",
      "source": [
        "##**Output**"
      ],
      "metadata": {
        "id": "0ujcYe1pF22y"
      }
    },
    {
      "cell_type": "code",
      "source": [
        "if __name__=='__main__':\n",
        "  \n",
        "  fragments=['AGCTA','GTA','CAT']\n",
        "  '''\n",
        "  Negative case:\n",
        "    In this case the fragements' positions are defined as,\n",
        "    1. v1 is to the right of v0\n",
        "    2. v1 is to the left of v1\n",
        "  '''\n",
        "  frags = 3\n",
        "  edges =  [[0, 1 ],  [2, 1 ]]\n",
        "  links = 2;\n",
        "  initGraph(frags, edges, links,fragments)\n",
        "\n",
        "  '''\n",
        "  Positive case:\n",
        "    In this case the fragements' positions are defined as,\n",
        "    1. v2 is to the right of v1\n",
        "    2. v1 is to the right of v0 \n",
        "  '''\n",
        "  frags = 3\n",
        "  edges =  [[0, 1 ],  [1, 2 ]]\n",
        "  links = 2;\n",
        "  initGraph(frags, edges, links,fragments)\n",
        "\n",
        "\n"
      ],
      "metadata": {
        "colab": {
          "base_uri": "https://localhost:8080/"
        },
        "id": "Rbkz4xmj3X2R",
        "outputId": "132b8ed4-52fa-46fa-e53f-39a3bb867425"
      },
      "execution_count": null,
      "outputs": [
        {
          "output_type": "stream",
          "name": "stdout",
          "text": [
            "------------Directed graph of the fragments------------\n",
            "0 ->1  \n",
            "1 ->\n",
            "2 ->1  \n",
            "The DFS of the fragments results in:  [0, 1]\n",
            "The DNA sequence cannot be reconstructed!\n",
            "------------Directed graph of the fragments------------\n",
            "0 ->1  \n",
            "1 ->2  \n",
            "2 ->\n",
            "The DFS of the fragments results in:  [0, 1, 2]\n",
            "The DNA sequence can be reconstructed!\n",
            "AGCTA GTA CAT "
          ]
        }
      ]
    }
  ]
}